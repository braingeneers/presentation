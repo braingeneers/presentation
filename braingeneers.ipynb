{
 "cells": [
  {
   "cell_type": "markdown",
   "metadata": {
    "slideshow": {
     "slide_type": "slide"
    }
   },
   "source": [
    "![title](./logo2.png)\n",
    "<h1><center><font color='gray'>Meeting 1/18/19</font></center></h1>"
   ]
  },
  {
   "cell_type": "markdown",
   "metadata": {
    "slideshow": {
     "slide_type": "slide"
    }
   },
   "source": [
    "# Agenda\n",
    "\n",
    "\n",
    "\n",
    "### Pressing Announcements \t\t(15 min)\n",
    "\n",
    "### <u> Progress Updates: </u>\n",
    "1. Genetic Engineers \t\t\t\t\t\t(15 min)\n",
    "2. Farmers \t\t\t\t\t\t\t\t(15 min)\n",
    "3. Sensing & Stimulation \t\t\t\t\t(15 min)\n",
    "4. Data Team \t\t\t\t\t\t\t\t(15 min)\n",
    "\n",
    "\n",
    "### Chaos/Discussion/Sub-Group Meetings \t\t\t(15 min)"
   ]
  },
  {
   "cell_type": "markdown",
   "metadata": {
    "slideshow": {
     "slide_type": "slide"
    }
   },
   "source": [
    "<h1> Example Slide </h1>\n",
    "\n",
    "- bullet1\n",
    "$$ myformula = \\frac{\\pi}{4}\\times 22.3t $$ "
   ]
  },
  {
   "cell_type": "markdown",
   "metadata": {
    "slideshow": {
     "slide_type": "slide"
    }
   },
   "source": [
    "# Visualization"
   ]
  },
  {
   "cell_type": "code",
   "execution_count": null,
   "metadata": {},
   "outputs": [],
   "source": []
  },
  {
   "cell_type": "markdown",
   "metadata": {
    "slideshow": {
     "slide_type": "slide"
    }
   },
   "source": [
    "source & tutorial: https://medium.com/learning-machine-learning/present-your-data-science-projects-with-jupyter-slides-75f20735eb0f"
   ]
  },
  {
   "cell_type": "markdown",
   "metadata": {
    "slideshow": {
     "slide_type": "slide"
    }
   },
   "source": [
    "<h1><center><font color='gray'> End </font></center></h1>"
   ]
  }
 ],
 "metadata": {
  "celltoolbar": "Slideshow",
  "kernelspec": {
   "display_name": "Python 3",
   "language": "python",
   "name": "python3"
  },
  "language_info": {
   "codemirror_mode": {
    "name": "ipython",
    "version": 2
   },
   "file_extension": ".py",
   "mimetype": "text/x-python",
   "name": "python",
   "nbconvert_exporter": "python",
   "pygments_lexer": "ipython2",
   "version": "2.7.15rc1"
  }
 },
 "nbformat": 4,
 "nbformat_minor": 2
}
